{
 "cells": [
  {
   "cell_type": "markdown",
   "metadata": {},
   "source": [
    "## Evaluation Harness for Visualizaiton Generation Pipelines \n",
    "\n",
    "The goal is to implement a harness that can take a list of datasets and compute a set of evaluation metrics \n",
    "\n",
    "- Visualization error rate \n",
    "- Self Evaluated Visualization Quality \n",
    "\n"
   ]
  },
  {
   "cell_type": "code",
   "execution_count": 1,
   "metadata": {},
   "outputs": [],
   "source": [
    "import pandas as pd \n",
    "import numpy as np \n",
    "import os \n",
    "from tqdm import tqdm\n",
    "from lida import Manager, TextGenerationConfig , llm  \n",
    "from dataclasses import asdict"
   ]
  },
  {
   "cell_type": "code",
   "execution_count": 2,
   "metadata": {},
   "outputs": [
    {
     "name": "stdout",
     "output_type": "stream",
     "text": [
      "68 datasets found\n"
     ]
    }
   ],
   "source": [
    "def get_data():\n",
    "    exclude = [\"annual-precip.json\"]\n",
    "    datasets_list = os.listdir('data/vega')\n",
    "    datasets_list = [dataset for dataset in datasets_list if dataset not in exclude]\n",
    "    print(len(datasets_list), \"datasets found\")\n",
    "    return datasets_list\n",
    "datasets_list = get_data()    "
   ]
  },
  {
   "cell_type": "code",
   "execution_count": 3,
   "metadata": {},
   "outputs": [
    {
     "name": "stderr",
     "output_type": "stream",
     "text": [
      "  0%|          | 0/10 [00:00<?, ?it/s]"
     ]
    },
    {
     "name": "stdout",
     "output_type": "stream",
     "text": [
      "Processing dataset:  co2-concentration.csv\n"
     ]
    },
    {
     "name": "stderr",
     "output_type": "stream",
     "text": [
      "<string>:6: UserWarning: \n",
      "\n",
      "`distplot` is a deprecated function and will be removed in seaborn v0.14.0.\n",
      "\n",
      "Please adapt your code to use either `displot` (a figure-level function with\n",
      "similar flexibility) or `histplot` (an axes-level function for histograms).\n",
      "\n",
      "For a guide to updating your code to use the new functions, please see\n",
      "https://gist.github.com/mwaskom/de44147ed2974457ad6372750bbe5751\n",
      "\n",
      "100%|██████████| 5/5 [00:01<00:00,  4.69it/s]\n",
      " 10%|█         | 1/10 [00:01<00:11,  1.31s/it]"
     ]
    },
    {
     "name": "stdout",
     "output_type": "stream",
     "text": [
      "Processing dataset:  wheat.json\n"
     ]
    },
    {
     "name": "stderr",
     "output_type": "stream",
     "text": [
      "100%|██████████| 5/5 [00:00<00:00,  5.47it/s]\n",
      " 20%|██        | 2/10 [00:02<00:08,  1.08s/it]"
     ]
    },
    {
     "name": "stdout",
     "output_type": "stream",
     "text": [
      "Processing dataset:  la-riots.csv\n"
     ]
    },
    {
     "name": "stderr",
     "output_type": "stream",
     "text": [
      "100%|██████████| 5/5 [00:00<00:00,  7.97it/s]\n",
      " 30%|███       | 3/10 [00:02<00:06,  1.13it/s]"
     ]
    },
    {
     "name": "stdout",
     "output_type": "stream",
     "text": [
      "Processing dataset:  flights-3m.csv\n"
     ]
    },
    {
     "name": "stderr",
     "output_type": "stream",
     "text": [
      "<string>:15: FutureWarning: \n",
      "\n",
      "The `ci` parameter is deprecated. Use `errorbar=None` for the same effect.\n",
      "\n",
      "100%|██████████| 5/5 [00:01<00:00,  4.77it/s]\n",
      " 40%|████      | 4/10 [00:03<00:05,  1.05it/s]"
     ]
    },
    {
     "name": "stdout",
     "output_type": "stream",
     "text": [
      "Processing dataset:  birdstrikes.csv\n"
     ]
    },
    {
     "name": "stderr",
     "output_type": "stream",
     "text": [
      "100%|██████████| 5/5 [00:01<00:00,  3.66it/s]\n",
      " 50%|█████     | 5/10 [00:05<00:05,  1.11s/it]"
     ]
    },
    {
     "name": "stdout",
     "output_type": "stream",
     "text": [
      "Processing dataset:  income.json\n"
     ]
    },
    {
     "name": "stderr",
     "output_type": "stream",
     "text": [
      "100%|██████████| 5/5 [00:00<00:00, 14.56it/s]\n",
      " 60%|██████    | 6/10 [00:05<00:03,  1.17it/s]"
     ]
    },
    {
     "name": "stdout",
     "output_type": "stream",
     "text": [
      "Processing dataset:  stocks.csv\n"
     ]
    },
    {
     "name": "stderr",
     "output_type": "stream",
     "text": [
      "100%|██████████| 5/5 [00:02<00:00,  1.85it/s]\n",
      " 70%|███████   | 7/10 [00:08<00:04,  1.46s/it]"
     ]
    },
    {
     "name": "stdout",
     "output_type": "stream",
     "text": [
      "Processing dataset:  movies.json\n"
     ]
    },
    {
     "name": "stderr",
     "output_type": "stream",
     "text": [
      "100%|██████████| 5/5 [00:01<00:00,  4.81it/s]\n",
      " 80%|████████  | 8/10 [00:09<00:02,  1.35s/it]"
     ]
    },
    {
     "name": "stdout",
     "output_type": "stream",
     "text": [
      "Processing dataset:  penguins.json\n"
     ]
    },
    {
     "name": "stderr",
     "output_type": "stream",
     "text": [
      "No artists with labels found to put in legend.  Note that artists whose label start with an underscore are ignored when legend() is called with no argument.\n",
      "100%|██████████| 5/5 [00:01<00:00,  4.34it/s]\n",
      " 90%|█████████ | 9/10 [00:10<00:01,  1.29s/it]"
     ]
    },
    {
     "name": "stdout",
     "output_type": "stream",
     "text": [
      "Processing dataset:  flare-dependencies.json\n"
     ]
    },
    {
     "name": "stderr",
     "output_type": "stream",
     "text": [
      "100%|██████████| 5/5 [00:00<00:00,  5.38it/s]\n",
      "100%|██████████| 10/10 [00:11<00:00,  1.16s/it]\n",
      "  0%|          | 0/10 [00:00<?, ?it/s]"
     ]
    },
    {
     "name": "stdout",
     "output_type": "stream",
     "text": [
      "Processing dataset:  co2-concentration.csv\n"
     ]
    },
    {
     "name": "stderr",
     "output_type": "stream",
     "text": [
      "100%|██████████| 5/5 [00:00<00:00,  5.24it/s]\n",
      " 10%|█         | 1/10 [00:00<00:08,  1.04it/s]"
     ]
    },
    {
     "name": "stdout",
     "output_type": "stream",
     "text": [
      "Processing dataset:  wheat.json\n"
     ]
    },
    {
     "name": "stderr",
     "output_type": "stream",
     "text": [
      "100%|██████████| 5/5 [00:00<00:00,  8.54it/s]\n",
      " 20%|██        | 2/10 [00:01<00:05,  1.34it/s]"
     ]
    },
    {
     "name": "stdout",
     "output_type": "stream",
     "text": [
      "Processing dataset:  la-riots.csv\n"
     ]
    },
    {
     "name": "stderr",
     "output_type": "stream",
     "text": [
      "100%|██████████| 5/5 [00:08<00:00,  1.74s/it]\n",
      " 30%|███       | 3/10 [00:10<00:30,  4.40s/it]"
     ]
    },
    {
     "name": "stdout",
     "output_type": "stream",
     "text": [
      "Processing dataset:  flights-3m.csv\n"
     ]
    },
    {
     "name": "stderr",
     "output_type": "stream",
     "text": [
      "100%|██████████| 5/5 [00:03<00:00,  1.65it/s]\n",
      " 40%|████      | 4/10 [00:13<00:23,  3.87s/it]"
     ]
    },
    {
     "name": "stdout",
     "output_type": "stream",
     "text": [
      "Processing dataset:  birdstrikes.csv\n"
     ]
    },
    {
     "name": "stderr",
     "output_type": "stream",
     "text": [
      "100%|██████████| 5/5 [00:01<00:00,  4.75it/s]\n",
      " 50%|█████     | 5/10 [00:14<00:14,  2.86s/it]"
     ]
    },
    {
     "name": "stdout",
     "output_type": "stream",
     "text": [
      "Processing dataset:  income.json\n"
     ]
    },
    {
     "name": "stderr",
     "output_type": "stream",
     "text": [
      "<string>:9: FutureWarning: \n",
      "\n",
      "The `ci` parameter is deprecated. Use `errorbar=None` for the same effect.\n",
      "\n",
      "/home/victordibia/miniconda3/envs/coral/lib/python3.11/site-packages/seaborn/axisgrid.py:118: UserWarning: The figure layout has changed to tight\n",
      "  self._figure.tight_layout(*args, **kwargs)\n",
      "100%|██████████| 5/5 [00:05<00:00,  1.09s/it]\n",
      " 60%|██████    | 6/10 [00:19<00:15,  3.75s/it]"
     ]
    },
    {
     "name": "stdout",
     "output_type": "stream",
     "text": [
      "Processing dataset:  stocks.csv\n"
     ]
    },
    {
     "name": "stderr",
     "output_type": "stream",
     "text": [
      "No artists with labels found to put in legend.  Note that artists whose label start with an underscore are ignored when legend() is called with no argument.\n",
      "/home/victordibia/miniconda3/envs/coral/lib/python3.11/site-packages/seaborn/axisgrid.py:118: UserWarning: The figure layout has changed to tight\n",
      "  self._figure.tight_layout(*args, **kwargs)\n",
      "100%|██████████| 5/5 [00:01<00:00,  3.64it/s]\n",
      " 70%|███████   | 7/10 [00:21<00:08,  2.98s/it]"
     ]
    },
    {
     "name": "stdout",
     "output_type": "stream",
     "text": [
      "Processing dataset:  movies.json\n"
     ]
    },
    {
     "name": "stderr",
     "output_type": "stream",
     "text": [
      "100%|██████████| 5/5 [00:00<00:00,  7.74it/s]\n",
      " 80%|████████  | 8/10 [00:22<00:04,  2.25s/it]"
     ]
    },
    {
     "name": "stdout",
     "output_type": "stream",
     "text": [
      "Processing dataset:  penguins.json\n"
     ]
    },
    {
     "name": "stderr",
     "output_type": "stream",
     "text": [
      "100%|██████████| 5/5 [00:00<00:00,  8.62it/s]\n",
      " 90%|█████████ | 9/10 [00:22<00:01,  1.73s/it]"
     ]
    },
    {
     "name": "stdout",
     "output_type": "stream",
     "text": [
      "Processing dataset:  flare-dependencies.json\n"
     ]
    },
    {
     "name": "stderr",
     "output_type": "stream",
     "text": [
      "100%|██████████| 5/5 [00:03<00:00,  1.28it/s]\n",
      "100%|██████████| 10/10 [00:26<00:00,  2.65s/it]\n"
     ]
    }
   ],
   "source": [
    "text_generator = llm(\"openai\")\n",
    "\n",
    "text_gen_configs= [\n",
    "    TextGenerationConfig(n=1, temperature=0.2, model=\"gpt-3.5-turbo-0301\", use_cache=True),\n",
    "    TextGenerationConfig(n=1, temperature=0.2, model=\"gpt-4-0314\", use_cache=True),\n",
    "]\n",
    "\n",
    "lida = Manager(text_gen=text_generator)\n",
    "\n",
    "visualizations = []\n",
    "for textgen_config in text_gen_configs:\n",
    "    for dataset_item in tqdm(datasets_list[0:10]):\n",
    "        print(\"Processing dataset: \", dataset_item )\n",
    "        dataset_item = os.path.join('data/vega', dataset_item)\n",
    "        summary_method = \"default\"\n",
    "        summary = lida.summarize(dataset_item, summary_method=summary_method, textgen_config=textgen_config)  \n",
    "        goals = lida.goals(summary, n=5, textgen_config=textgen_config) \n",
    "    \n",
    "        library = \"seaborn\"\n",
    "        for goal in tqdm(goals) :\n",
    "            charts = lida.visualize(summary=summary, goal=goal, textgen_config=textgen_config, library=library, return_error=True)\n",
    "            chart = asdict(charts[0]) \n",
    "            chart.update({\"goal\": asdict(goal), \"library\": library, \"dataset\": dataset_item, \"summary_method\": summary_method, \"model\": textgen_config.model}) \n",
    "            visualizations.append(chart)\n",
    " "
   ]
  },
  {
   "cell_type": "code",
   "execution_count": 4,
   "metadata": {},
   "outputs": [
    {
     "name": "stdout",
     "output_type": "stream",
     "text": [
      "(100, 10)\n"
     ]
    },
    {
     "data": {
      "text/html": [
       "<div>\n",
       "<style scoped>\n",
       "    .dataframe tbody tr th:only-of-type {\n",
       "        vertical-align: middle;\n",
       "    }\n",
       "\n",
       "    .dataframe tbody tr th {\n",
       "        vertical-align: top;\n",
       "    }\n",
       "\n",
       "    .dataframe thead th {\n",
       "        text-align: right;\n",
       "    }\n",
       "</style>\n",
       "<table border=\"1\" class=\"dataframe\">\n",
       "  <thead>\n",
       "    <tr style=\"text-align: right;\">\n",
       "      <th></th>\n",
       "      <th>spec</th>\n",
       "      <th>status</th>\n",
       "      <th>raster</th>\n",
       "      <th>code</th>\n",
       "      <th>library</th>\n",
       "      <th>error</th>\n",
       "      <th>goal</th>\n",
       "      <th>dataset</th>\n",
       "      <th>summary_method</th>\n",
       "      <th>model</th>\n",
       "    </tr>\n",
       "  </thead>\n",
       "  <tbody>\n",
       "    <tr>\n",
       "      <th>0</th>\n",
       "      <td>None</td>\n",
       "      <td>True</td>\n",
       "      <td>iVBORw0KGgoAAAANSUhEUgAABLAAAAJYCAYAAABy5h8aAA...</td>\n",
       "      <td>import seaborn as sns\\nimport pandas as pd\\nim...</td>\n",
       "      <td>seaborn</td>\n",
       "      <td>None</td>\n",
       "      <td>{'question': 'What is the trend in CO2 concent...</td>\n",
       "      <td>data/vega/co2-concentration.csv</td>\n",
       "      <td>default</td>\n",
       "      <td>gpt-3.5-turbo-0301</td>\n",
       "    </tr>\n",
       "    <tr>\n",
       "      <th>1</th>\n",
       "      <td>None</td>\n",
       "      <td>True</td>\n",
       "      <td>iVBORw0KGgoAAAANSUhEUgAAAoAAAAHgCAYAAAA10dzkAA...</td>\n",
       "      <td>import seaborn as sns\\nimport pandas as pd\\nim...</td>\n",
       "      <td>seaborn</td>\n",
       "      <td>None</td>\n",
       "      <td>{'question': 'What is the relationship between...</td>\n",
       "      <td>data/vega/co2-concentration.csv</td>\n",
       "      <td>default</td>\n",
       "      <td>gpt-3.5-turbo-0301</td>\n",
       "    </tr>\n",
       "    <tr>\n",
       "      <th>2</th>\n",
       "      <td>None</td>\n",
       "      <td>True</td>\n",
       "      <td>iVBORw0KGgoAAAANSUhEUgAAAoAAAAHgCAYAAAA10dzkAA...</td>\n",
       "      <td>import seaborn as sns\\nimport pandas as pd\\nim...</td>\n",
       "      <td>seaborn</td>\n",
       "      <td>None</td>\n",
       "      <td>{'question': 'What is the distribution of CO2 ...</td>\n",
       "      <td>data/vega/co2-concentration.csv</td>\n",
       "      <td>default</td>\n",
       "      <td>gpt-3.5-turbo-0301</td>\n",
       "    </tr>\n",
       "    <tr>\n",
       "      <th>3</th>\n",
       "      <td>None</td>\n",
       "      <td>True</td>\n",
       "      <td>iVBORw0KGgoAAAANSUhEUgAAAoAAAAHgCAYAAAA10dzkAA...</td>\n",
       "      <td>import seaborn as sns\\nimport pandas as pd\\nim...</td>\n",
       "      <td>seaborn</td>\n",
       "      <td>None</td>\n",
       "      <td>{'question': 'What is the average CO2 concentr...</td>\n",
       "      <td>data/vega/co2-concentration.csv</td>\n",
       "      <td>default</td>\n",
       "      <td>gpt-3.5-turbo-0301</td>\n",
       "    </tr>\n",
       "    <tr>\n",
       "      <th>4</th>\n",
       "      <td>None</td>\n",
       "      <td>False</td>\n",
       "      <td>None</td>\n",
       "      <td>import seaborn as sns\\nimport pandas as pd\\nim...</td>\n",
       "      <td>seaborn</td>\n",
       "      <td>{'message': '\"['latitude'] not in index\"', 'tr...</td>\n",
       "      <td>{'question': 'What is the relationship between...</td>\n",
       "      <td>data/vega/co2-concentration.csv</td>\n",
       "      <td>default</td>\n",
       "      <td>gpt-3.5-turbo-0301</td>\n",
       "    </tr>\n",
       "  </tbody>\n",
       "</table>\n",
       "</div>"
      ],
      "text/plain": [
       "   spec  status                                             raster  \\\n",
       "0  None    True  iVBORw0KGgoAAAANSUhEUgAABLAAAAJYCAYAAABy5h8aAA...   \n",
       "1  None    True  iVBORw0KGgoAAAANSUhEUgAAAoAAAAHgCAYAAAA10dzkAA...   \n",
       "2  None    True  iVBORw0KGgoAAAANSUhEUgAAAoAAAAHgCAYAAAA10dzkAA...   \n",
       "3  None    True  iVBORw0KGgoAAAANSUhEUgAAAoAAAAHgCAYAAAA10dzkAA...   \n",
       "4  None   False                                               None   \n",
       "\n",
       "                                                code  library  \\\n",
       "0  import seaborn as sns\\nimport pandas as pd\\nim...  seaborn   \n",
       "1  import seaborn as sns\\nimport pandas as pd\\nim...  seaborn   \n",
       "2  import seaborn as sns\\nimport pandas as pd\\nim...  seaborn   \n",
       "3  import seaborn as sns\\nimport pandas as pd\\nim...  seaborn   \n",
       "4  import seaborn as sns\\nimport pandas as pd\\nim...  seaborn   \n",
       "\n",
       "                                               error  \\\n",
       "0                                               None   \n",
       "1                                               None   \n",
       "2                                               None   \n",
       "3                                               None   \n",
       "4  {'message': '\"['latitude'] not in index\"', 'tr...   \n",
       "\n",
       "                                                goal  \\\n",
       "0  {'question': 'What is the trend in CO2 concent...   \n",
       "1  {'question': 'What is the relationship between...   \n",
       "2  {'question': 'What is the distribution of CO2 ...   \n",
       "3  {'question': 'What is the average CO2 concentr...   \n",
       "4  {'question': 'What is the relationship between...   \n",
       "\n",
       "                           dataset summary_method               model  \n",
       "0  data/vega/co2-concentration.csv        default  gpt-3.5-turbo-0301  \n",
       "1  data/vega/co2-concentration.csv        default  gpt-3.5-turbo-0301  \n",
       "2  data/vega/co2-concentration.csv        default  gpt-3.5-turbo-0301  \n",
       "3  data/vega/co2-concentration.csv        default  gpt-3.5-turbo-0301  \n",
       "4  data/vega/co2-concentration.csv        default  gpt-3.5-turbo-0301  "
      ]
     },
     "execution_count": 4,
     "metadata": {},
     "output_type": "execute_result"
    }
   ],
   "source": [
    "vdf = pd.DataFrame(visualizations) \n",
    "print(vdf.shape)\n",
    "vdf.head()"
   ]
  },
  {
   "cell_type": "code",
   "execution_count": null,
   "metadata": {},
   "outputs": [
    {
     "data": {
      "image/png": "[encoded data removed]",
      "text/plain": [
       "<Figure size 1200x600 with 1 Axes>"
      ]
     },
     "metadata": {},
     "output_type": "display_data"
    }
   ],
   "source": [
    "import seaborn as sns\n",
    "import pandas as pd\n",
    "import matplotlib.pyplot as plt\n",
    "\n",
    "def plot_error_rate(data: pd.DataFrame):\n",
    "    # Calculate error rate\n",
    "    data['error_rate'] = data['status'].apply(lambda x: 0 if x else 1)\n",
    "    \n",
    "    # Group by model and summary_method, then calculate the mean error_rate (percentage)\n",
    "    error_rate_data = data.groupby(['model', 'summary_method'])['error_rate'].mean().reset_index()\n",
    "    error_rate_data['error_rate'] = error_rate_data['error_rate'] * 100\n",
    "    \n",
    "    # Create a stacked bar chart\n",
    "    plt.figure(figsize=(12, 6))\n",
    "    sns.barplot(x='model', y='error_rate', hue='summary_method', data=error_rate_data, errorbar=None)\n",
    "    \n",
    "    num_viz = data.shape[0]\n",
    "    # Add labels and title\n",
    "    plt.xlabel('Model')\n",
    "    plt.ylabel('Error Rate (%)')\n",
    "    plt.title(f'Error Rate by Model and Summary Method | n={str(num_viz)}')\n",
    "    \n",
    "    return plt\n",
    "\n",
    "# Assuming the data is in a pandas DataFrame called 'df'\n",
    "chart = plot_error_rate(vdf)\n",
    "chart.show()"
   ]
  },
  {
   "cell_type": "markdown",
   "metadata": {},
   "source": [
    "## Metrics \n",
    "\n",
    "- Visualization Error Rate VER\n",
    "- Self Evaluation Visualization Quality SEVQ\n",
    "\n",
    "## Methods \n",
    "\n",
    "- Generate visualization \n",
    "- Visualize error rates \n",
    "- Compute SEVQ "
   ]
  },
  {
   "cell_type": "code",
   "execution_count": null,
   "metadata": {},
   "outputs": [],
   "source": []
  }
 ],
 "metadata": {
  "kernelspec": {
   "display_name": "coral",
   "language": "python",
   "name": "python3"
  },
  "language_info": {
   "codemirror_mode": {
    "name": "ipython",
    "version": 3
   },
   "file_extension": ".py",
   "mimetype": "text/x-python",
   "name": "python",
   "nbconvert_exporter": "python",
   "pygments_lexer": "ipython3",
   "version": "3.11.4"
  }
 },
 "nbformat": 4,
 "nbformat_minor": 2
}
